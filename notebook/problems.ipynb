{
    "cells": [
        {
            "cell_type": "markdown",
            "id": "ac622319",
            "metadata": {},
            "source": [
                "# Descriptive statistics problems"
            ]
        },
        {
            "cell_type": "markdown",
            "id": "aa8993e4",
            "metadata": {},
            "source": [
                "### Exercise 1"
            ]
        },
        {
            "cell_type": "markdown",
            "id": "5e0ab0d5",
            "metadata": {},
            "source": [
                "We will use Numpy to obtain information to describe statistically.\n",
                "\n",
                "- Generate an array of 100 elements following a normal distribution.\n",
                "- Generate an array of 100 elements following a chi-square distribution with 3 degrees of freedom.\n",
                "- Calculate the main metrics and statistical measures that best describe the two vectors."
            ]
        },
        {
            "cell_type": "code",
            "execution_count": 2,
            "id": "34720ab6",
            "metadata": {},
            "outputs": [],
            "source": [
                "# TODO\n",
                "import numpy as np\n",
                "\n",
                "normal_array = np.random.normal(size = 100)\n",
                "chi_array = np.random.chisquare(3, 100)"
            ]
        },
        {
            "cell_type": "code",
            "execution_count": 4,
            "id": "4f002fee",
            "metadata": {},
            "outputs": [
                {
                    "name": "stdout",
                    "output_type": "stream",
                    "text": [
                        "Normal mean: -0.0338104802113717\n",
                        "Chi mean: 3.037912335890877\n"
                    ]
                }
            ],
            "source": [
                "# Mean: average: sum of all elements divided by number od elements\n",
                "import statistics as stats\n",
                "\n",
                "print(f\"Normal mean: {stats.mean(normal_array)}\")\n",
                "print(f\"Chi mean: {stats.mean(chi_array)}\")"
            ]
        },
        {
            "cell_type": "code",
            "execution_count": null,
            "id": "ca86ec29",
            "metadata": {},
            "outputs": [],
            "source": [
                "# Median: above and below of this point we find respectively 50% of the total data\n",
                "\n",
                "print(f\"Normal median: {stats.median(normal_array)}\")\n",
                "print(f\"Chi median: {stats.median(chi_array)}\")"
            ]
        },
        {
            "cell_type": "code",
            "execution_count": null,
            "id": "ced3c0a7",
            "metadata": {},
            "outputs": [],
            "source": [
                "# Mode: value that appears most frequently in a dataset\n",
                "\n",
                "print(f\"Normal mode: {stats.mode(normal_array)}\")\n",
                "print(f\"Chi mode: {stats.mode(chi_array)}\")"
            ]
        },
        {
            "cell_type": "code",
            "execution_count": null,
            "id": "dd40997f",
            "metadata": {},
            "outputs": [],
            "source": [
                "# Range: difference between the maximum value and the minimum value of a dataset\n",
                "\n",
                "range_normal = max(normal_array) - min(normal_array)\n",
                "range_chi = max(chi_array) - min(chi_array)\n",
                "print(f\"Normal range: {range_normal}\")\n",
                "print(f\"Normal chi: {range_chi}\")"
            ]
        },
        {
            "cell_type": "code",
            "execution_count": null,
            "id": "297e39fa",
            "metadata": {},
            "outputs": [],
            "source": [
                "# Variance, Standard Deviation: how far are the values from the mean? \n",
                "\n",
                "var_normal = stats.variance(normal_array)\n",
                "std_normal = stats.stdev(normal_array)\n",
                "var_chi = stats.variance(chi_array)\n",
                "std_chi = stats.stdev(chi_array)\n",
                "\n",
                "print(f\"Normal variance: {var_normal} and std: {std_normal}\")\n",
                "print(f\"Chi variance: {var_chi} and std: {std_chi}\")"
            ]
        },
        {
            "cell_type": "code",
            "execution_count": null,
            "id": "42229a89",
            "metadata": {},
            "outputs": [],
            "source": [
                "# Skewness: measures the lack of simmetry in the data distribution\n",
                "\n",
                "from scipy.stats import skew\n",
                "\n",
                "skew_normal = skew(normal_array)\n",
                "skew_chi = skew(chi_array)\n",
                "\n",
                "print(f\"Normal skewness: {skew_normal}\")\n",
                "print(f\"Chi skewness: {skew_chi}\")"
            ]
        },
        {
            "cell_type": "code",
            "execution_count": null,
            "id": "78a4c245",
            "metadata": {},
            "outputs": [],
            "source": [
                "# Kurtosis: how much is the data concentrated around the mean?\n",
                "\n",
                "from scipy.stats import kurtosis\n",
                "\n",
                "kurt_normal = kurtosis(normal_array)\n",
                "kurt_chi = kurtosis(chi_array)\n",
                "\n",
                "print(f\"Normal kurtosis: {kurt_normal}\")\n",
                "print(f\"Chi kurtosis: {kurt_chi}\")"
            ]
        },
        {
            "cell_type": "markdown",
            "id": "46c70c3d",
            "metadata": {},
            "source": [
                "### Exercise 2\n",
                "\n",
                "Write a Python program to calculate the standard deviation of the following data:\n",
                "\n",
                "```py\n",
                "data = [4, 2, 5, 8, 6]\n",
                "```"
            ]
        },
        {
            "cell_type": "code",
            "execution_count": 7,
            "id": "d590308e",
            "metadata": {},
            "outputs": [
                {
                    "name": "stdout",
                    "output_type": "stream",
                    "text": [
                        "Data: [4, 2, 5, 8, 6]\n",
                        "Standard Deviation of data: 2.23606797749979\n"
                    ]
                }
            ],
            "source": [
                "# TODO\n",
                "import math\n",
                "import sys\n",
                "\n",
                "# Define the standard deviation function\n",
                "\n",
                "def stand_calc(data):\n",
                "    n = len(data)\n",
                "\n",
                "    if (n <= 1):\n",
                "        return 0.0\n",
                "\n",
                "    mean, stand = avg_calc(data), 0.0\n",
                "\n",
                "    for d in data:\n",
                "        stand += (float(d) - mean) ** 2\n",
                "    stand = math.sqrt(stand / float(n - 1))\n",
                "\n",
                "    return stand\n",
                "\n",
                "def avg_calc(data):\n",
                "    n, mean = len(data), 0.0\n",
                "\n",
                "    if (n <= 1):\n",
                "        return data[0]\n",
                "\n",
                "    for d in data:\n",
                "        mean = mean + float(d)\n",
                "\n",
                "    mean = mean / float(n)\n",
                "    return mean\n",
                "\n",
                "\n",
                "data = [4, 2, 5, 8, 6]\n",
                "print(f\"Data: {data}\")\n",
                "print(f\"Standard Deviation of data: {sd_calc(data)}\")"
            ]
        }
    ],
    "metadata": {
        "interpreter": {
            "hash": "9248718ffe6ce6938b217e69dbcc175ea21f4c6b28a317e96c05334edae734bb"
        },
        "kernelspec": {
            "display_name": "Python 3.9.12 ('ML-BOOTCAMP')",
            "language": "python",
            "name": "python3"
        },
        "language_info": {
            "codemirror_mode": {
                "name": "ipython",
                "version": 3
            },
            "file_extension": ".py",
            "mimetype": "text/x-python",
            "name": "python",
            "nbconvert_exporter": "python",
            "pygments_lexer": "ipython3",
            "version": "3.12.2"
        }
    },
    "nbformat": 4,
    "nbformat_minor": 5
}
